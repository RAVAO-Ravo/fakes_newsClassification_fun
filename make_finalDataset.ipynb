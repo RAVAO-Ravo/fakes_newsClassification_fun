{
 "cells": [
  {
   "cell_type": "code",
   "execution_count": 1,
   "metadata": {},
   "outputs": [],
   "source": [
    "# Importation des modules\n",
    "import re\n",
    "import pandas as pd\n",
    "import matplotlib.pyplot as plt\n",
    "import seaborn as sns\n",
    "import typing as tp\n",
    "from nltk.corpus import stopwords\n",
    "from nltk.stem import WordNetLemmatizer, SnowballStemmer\n",
    "from nltk.tokenize import word_tokenize\n",
    "from sklearn.feature_extraction.text import TfidfVectorizer\n",
    "from sklearn.decomposition import TruncatedSVD\n",
    "from twinning import multiplet\n",
    "\n",
    "# Variables globales\n",
    "stop_words: set = set(stopwords.words('english'))\n",
    "random_state: int = 42"
   ]
  },
  {
   "cell_type": "code",
   "execution_count": 2,
   "metadata": {},
   "outputs": [],
   "source": [
    "def plot_1d(features: tp.Any, target: tp.Any) -> None:\n",
    "\t\"\"\"\n",
    "\tRéduit un DataFrame à une seule dimension en utilisant SVD et trace deux KDE plots en fonction des labels.\n",
    "\n",
    "\tArgs:\n",
    "\t\tdataframe (tp.Any): Les features à utiliser.\n",
    "\t\tlabels (tp.Any): Les labels correspondants aux features.\n",
    "\n",
    "\tReturns:\n",
    "\t\tNone\n",
    "\t\"\"\"\n",
    "\t# Réduire le DataFrame à une dimension en utilisant SVD\n",
    "\tpca = TruncatedSVD(n_components=1, random_state=random_state)\n",
    "\tdf_1d = pca.fit_transform(features)\n",
    "\n",
    "\t# Créez un DataFrame à partir de la réduction à une dimension et des labels\n",
    "\tdf_1d = pd.DataFrame(df_1d, columns=['Dimension 1'])\n",
    "\tdf_1d['Labels'] = target.reset_index(drop=True)\n",
    "\n",
    "\t# Tracez deux KDE plots en fonction des labels\n",
    "\tplt.figure(figsize=(12, 8))  # Ajustez la taille du plot si nécessaire\n",
    "\tsns.kdeplot(data=df_1d[df_1d['Labels'] == 0]['Dimension 1'], label='subset 1', shade=True)\n",
    "\tsns.kdeplot(data=df_1d[df_1d['Labels'] == 1]['Dimension 1'], label='subset 2', shade=True)\n",
    "\tsns.kdeplot(data=df_1d[df_1d['Labels'] == 2]['Dimension 1'], label='subset 3', shade=True)\n",
    "\tplt.title(\"KDE Plot - Dimension 1\")\n",
    "\tplt.xlabel(\"Valeur\")\n",
    "\tplt.ylabel(\"Densité\")\n",
    "\tplt.legend()\n",
    "\tplt.show()"
   ]
  },
  {
   "cell_type": "code",
   "execution_count": 3,
   "metadata": {},
   "outputs": [],
   "source": [
    "def preprocess_text(text: str) -> str:\n",
    "    \"\"\"\n",
    "    Prétraite un texte en supprimant les URL, remplaçant les symboles monétaires par leur nom,\n",
    "    ajoutant des espaces entre les nombres et les signes, remplaçant les nombres et les dates par\n",
    "    des mots indicatifs, supprimant la ponctuation, mettant le texte en minuscules, supprimant les\n",
    "    stopwords et retournant le texte nettoyé.\n",
    "\n",
    "    Args:\n",
    "        text (str): Le texte à prétraiter.\n",
    "\n",
    "    Returns:\n",
    "        str: Le texte prétraité.\n",
    "    \"\"\"\n",
    "    # Remplace les dates par un mot indicatif\n",
    "    date_formats = [\n",
    "        r'\\d{1,2}/\\d{1,2}/\\d{4}', # 10/25/2023\n",
    "        r'\\d{4}-\\d{2}-\\d{2}',     # 2023-10-25\n",
    "        r'\\d{1,2}-\\d{1,2}-\\d{2}', # 10-25-23\n",
    "    ]\n",
    "    for date_format in date_formats:\n",
    "        text = re.sub(date_format, 'xdatex', text)\n",
    "\n",
    "    # Remplace les URL par un espace\n",
    "    text = re.sub(r'http\\S+', ' ', text)\n",
    "    \n",
    "    # Remplace les symboles monétaires par leur nom\n",
    "    text = re.sub(r'\\$', ' dollar ', text)\n",
    "    text = re.sub(r'€', ' euro ', text)\n",
    "    text = re.sub(r'£', ' livre ', text)\n",
    "    text = re.sub(r'¥', ' yen ', text)\n",
    "    \n",
    "    # Ajoute des espaces entre les nombres et les signes\n",
    "    text = re.sub(r'(\\d)(\\D)', r'\\1 \\2', text)\n",
    "    text = re.sub(r'(\\D)(\\d)', r'\\1 \\2', text)\n",
    "    \n",
    "    # Remplace les nombres par un mot indicatif\n",
    "    text = re.sub(r'\\d+', 'xnumx', text)\n",
    "    \n",
    "    # Supprime les caractères de ponctuation\n",
    "    text = re.sub(r'[^\\w\\s]', ' ', text) \n",
    "    \n",
    "    # Remplace les espaces multiples par un seul espace\n",
    "    text = re.sub(r'\\s+', ' ', text)\n",
    "    \n",
    "    # Met en minuscule\n",
    "    text = text.lower()\n",
    "    \n",
    "    # Tokenize le texte\n",
    "    tokens = word_tokenize(text)\n",
    "    \n",
    "    # Supprime les stopwords\n",
    "    tokens = [word for word in tokens if word not in stop_words and 1 < len(word)]\n",
    "    \n",
    "    # Rejoindre les tokens en un texte nettoyé\n",
    "    text = ' '.join(tokens)\n",
    "    \n",
    "    return text"
   ]
  },
  {
   "cell_type": "code",
   "execution_count": 4,
   "metadata": {},
   "outputs": [],
   "source": [
    "def lemmatize_text(text: str) -> str:\n",
    "    \"\"\"\n",
    "    Lemmatise un texte en utilisant la lemmatisation de WordNet.\n",
    "\n",
    "    Args:\n",
    "        text (str): Le texte à lemmatiser.\n",
    "\n",
    "    Returns:\n",
    "        str: Le texte lemmatisé.\n",
    "    \"\"\"\n",
    "    # Initialise le lemmatiseur WordNet\n",
    "    lemmatizer = WordNetLemmatizer()\n",
    "\n",
    "    # Tokenise le texte\n",
    "    tokens = text.split()\n",
    "\n",
    "    # Lemmatise chaque token et reconstitue le texte\n",
    "    lemmatized_text = ' '.join([lemmatizer.lemmatize(token) for token in tokens])\n",
    "\n",
    "    return lemmatized_text"
   ]
  },
  {
   "cell_type": "code",
   "execution_count": 5,
   "metadata": {},
   "outputs": [],
   "source": [
    "# def stem_text(text: str) -> str:\n",
    "#     \"\"\"\n",
    "#     Stemmatise un texte en utilisant le stemmer Snowball.\n",
    "\n",
    "#     Args:\n",
    "#         text (str): Le texte à stemmatiser.\n",
    "\n",
    "#     Returns:\n",
    "#         str: Le texte stemmatisé.\n",
    "#     \"\"\"\n",
    "#     # Initialise le stemmer Snowball pour la langue anglaise (autres langues disponibles)\n",
    "#     stemmer = SnowballStemmer('english')\n",
    "\n",
    "#     # Tokenise le texte\n",
    "#     tokens = text.split()\n",
    "\n",
    "#     # Stemmatise chaque token et reconstitue le texte\n",
    "#     stemmed_text = ' '.join([stemmer.stem(token) for token in tokens])\n",
    "\n",
    "#     return stemmed_text"
   ]
  },
  {
   "cell_type": "code",
   "execution_count": 6,
   "metadata": {},
   "outputs": [],
   "source": [
    "# def extract_punctuation(text: str) -> str:\n",
    "#     \"\"\"\n",
    "#     Extrait toutes les ponctuations du texte, séparées par un seul espace.\n",
    "\n",
    "#     Args:\n",
    "#         text (str): Le texte source.\n",
    "\n",
    "#     Returns:\n",
    "#         str: Toutes les ponctuations séparées par un espace.\n",
    "#     \"\"\"\n",
    "#     # Utilise une expression régulière pour extraire toutes les ponctuations\n",
    "#     punctuations = re.findall(r\"\"\"[.,!?;:\"\\'(){}\\[\\]<>~`@#%^&*+=|\\\\_\\-/]\"\"\", text)\n",
    "\n",
    "#     # Reconstitue toutes les ponctuations séparées par un espace\n",
    "#     punctuations_spaced = ' '.join(punctuations)\n",
    "\n",
    "#     return punctuations_spaced"
   ]
  },
  {
   "cell_type": "markdown",
   "metadata": {},
   "source": [
    "# Fakes news"
   ]
  },
  {
   "cell_type": "code",
   "execution_count": 7,
   "metadata": {},
   "outputs": [],
   "source": [
    "# Création des fonctions de formatage\n",
    "format_date = lambda date: f\"k{date}k\" if date != \"unknown\" else \"ndaten\"\n",
    "format_author = lambda author: f\"k{author}k\" if author != \"unknown\" else \"nauthorn\""
   ]
  },
  {
   "cell_type": "code",
   "execution_count": 8,
   "metadata": {},
   "outputs": [],
   "source": [
    "# Retrait des duplications\n",
    "fakes_news = pd.read_csv(\"faux.csv\").sort_values(by=[\"date\", \"author\"]).reset_index(drop=True)\n",
    "fakes_news[\"features\"] = fakes_news[\"text\"].apply(preprocess_text).apply(lemmatize_text)\n",
    "fakes_news = fakes_news[[\"date\", \"author\", \"features\"]]\n",
    "fakes_news = fakes_news.drop_duplicates(subset=\"features\", keep=\"first\").reset_index(drop=True)"
   ]
  },
  {
   "cell_type": "code",
   "execution_count": 9,
   "metadata": {},
   "outputs": [],
   "source": [
    "# Création des nouveaux features\n",
    "vectorizer = TfidfVectorizer(max_features=5000, min_df=2, max_df=0.80, ngram_range=(1, 3)).fit(fakes_news[\"features\"])\n",
    "new_features = vectorizer.transform(fakes_news[\"features\"]).toarray()"
   ]
  },
  {
   "cell_type": "code",
   "execution_count": 10,
   "metadata": {},
   "outputs": [],
   "source": [
    "# Ajout des nouveaux labels\n",
    "n_clusters = round(fakes_news.shape[0] / pd.read_csv(\"./vraie.csv\").shape[0])\n",
    "fakes_news[\"labels\"] = multiplet(data=new_features, k=n_clusters)"
   ]
  },
  {
   "cell_type": "code",
   "execution_count": 11,
   "metadata": {},
   "outputs": [
    {
     "data": {
      "image/png": "[encoded data removed]",
      "text/plain": [
       "<Figure size 864x576 with 1 Axes>"
      ]
     },
     "metadata": {
      "needs_background": "light"
     },
     "output_type": "display_data"
    }
   ],
   "source": [
    "# Affichage des trois subsets\n",
    "plot_1d(features=new_features, target=fakes_news[\"labels\"])"
   ]
  },
  {
   "cell_type": "code",
   "execution_count": 12,
   "metadata": {},
   "outputs": [
    {
     "data": {
      "text/html": [
       "<div>\n",
       "<style scoped>\n",
       "    .dataframe tbody tr th:only-of-type {\n",
       "        vertical-align: middle;\n",
       "    }\n",
       "\n",
       "    .dataframe tbody tr th {\n",
       "        vertical-align: top;\n",
       "    }\n",
       "\n",
       "    .dataframe thead th {\n",
       "        text-align: right;\n",
       "    }\n",
       "</style>\n",
       "<table border=\"1\" class=\"dataframe\">\n",
       "  <thead>\n",
       "    <tr style=\"text-align: right;\">\n",
       "      <th></th>\n",
       "      <th>features</th>\n",
       "      <th>labels</th>\n",
       "    </tr>\n",
       "  </thead>\n",
       "  <tbody>\n",
       "    <tr>\n",
       "      <th>0</th>\n",
       "      <td>k2000-10-01k katlanta sports councilk economic...</td>\n",
       "      <td>1</td>\n",
       "    </tr>\n",
       "    <tr>\n",
       "      <th>1</th>\n",
       "      <td>k2007-07-25k kjohn mccaink spent dollar xnumx ...</td>\n",
       "      <td>1</td>\n",
       "    </tr>\n",
       "    <tr>\n",
       "      <th>2</th>\n",
       "      <td>k2007-09-17k kchain emailk clinton charge secr...</td>\n",
       "      <td>2</td>\n",
       "    </tr>\n",
       "    <tr>\n",
       "      <th>3</th>\n",
       "      <td>k2007-09-21k kjohn edwardsk rural school enrol...</td>\n",
       "      <td>2</td>\n",
       "    </tr>\n",
       "    <tr>\n",
       "      <th>4</th>\n",
       "      <td>k2007-09-26k kjoe bidenk xnumx xnumx baby born...</td>\n",
       "      <td>1</td>\n",
       "    </tr>\n",
       "  </tbody>\n",
       "</table>\n",
       "</div>"
      ],
      "text/plain": [
       "                                            features  labels\n",
       "0  k2000-10-01k katlanta sports councilk economic...       1\n",
       "1  k2007-07-25k kjohn mccaink spent dollar xnumx ...       1\n",
       "2  k2007-09-17k kchain emailk clinton charge secr...       2\n",
       "3  k2007-09-21k kjohn edwardsk rural school enrol...       2\n",
       "4  k2007-09-26k kjoe bidenk xnumx xnumx baby born...       1"
      ]
     },
     "metadata": {},
     "output_type": "display_data"
    }
   ],
   "source": [
    "# Dataset final pour les fakes news\n",
    "fakes_news[\"author\"] = fakes_news[\"author\"].apply(str.lower).apply(format_author)\n",
    "fakes_news[\"date\"] = fakes_news[\"date\"].apply(str.lower).apply(format_date)\n",
    "fakes_news[\"features\"] = fakes_news[\"date\"] + ' ' + fakes_news[\"author\"] + ' ' + fakes_news[\"features\"]\n",
    "fakes_news = fakes_news[[\"features\", \"labels\"]]\n",
    "display(fakes_news.head())"
   ]
  },
  {
   "cell_type": "markdown",
   "metadata": {},
   "source": [
    "# Reals news"
   ]
  },
  {
   "cell_type": "code",
   "execution_count": 13,
   "metadata": {},
   "outputs": [
    {
     "data": {
      "text/html": [
       "<div>\n",
       "<style scoped>\n",
       "    .dataframe tbody tr th:only-of-type {\n",
       "        vertical-align: middle;\n",
       "    }\n",
       "\n",
       "    .dataframe tbody tr th {\n",
       "        vertical-align: top;\n",
       "    }\n",
       "\n",
       "    .dataframe thead th {\n",
       "        text-align: right;\n",
       "    }\n",
       "</style>\n",
       "<table border=\"1\" class=\"dataframe\">\n",
       "  <thead>\n",
       "    <tr style=\"text-align: right;\">\n",
       "      <th></th>\n",
       "      <th>features</th>\n",
       "      <th>labels</th>\n",
       "    </tr>\n",
       "  </thead>\n",
       "  <tbody>\n",
       "    <tr>\n",
       "      <th>0</th>\n",
       "      <td>k2007-04-26k kmitt romneyk senator mccain vote...</td>\n",
       "      <td>3</td>\n",
       "    </tr>\n",
       "    <tr>\n",
       "      <th>1</th>\n",
       "      <td>k2007-05-31k krudy giulianik fifty six percent...</td>\n",
       "      <td>3</td>\n",
       "    </tr>\n",
       "    <tr>\n",
       "      <th>2</th>\n",
       "      <td>k2007-07-19k kobama girlk least obama marry co...</td>\n",
       "      <td>3</td>\n",
       "    </tr>\n",
       "    <tr>\n",
       "      <th>3</th>\n",
       "      <td>k2007-08-04k kjohn mccaink spent approximately...</td>\n",
       "      <td>3</td>\n",
       "    </tr>\n",
       "    <tr>\n",
       "      <th>4</th>\n",
       "      <td>k2007-08-05k kduncan hunterk schip socialized ...</td>\n",
       "      <td>3</td>\n",
       "    </tr>\n",
       "  </tbody>\n",
       "</table>\n",
       "</div>"
      ],
      "text/plain": [
       "                                            features  labels\n",
       "0  k2007-04-26k kmitt romneyk senator mccain vote...       3\n",
       "1  k2007-05-31k krudy giulianik fifty six percent...       3\n",
       "2  k2007-07-19k kobama girlk least obama marry co...       3\n",
       "3  k2007-08-04k kjohn mccaink spent approximately...       3\n",
       "4  k2007-08-05k kduncan hunterk schip socialized ...       3"
      ]
     },
     "metadata": {},
     "output_type": "display_data"
    }
   ],
   "source": [
    "# Dataset final pour les reals news\n",
    "reals_news = pd.read_csv(\"vraie.csv\").sort_values(by=[\"date\", \"author\"]).reset_index(drop=True)\n",
    "reals_news[\"features\"] = reals_news[\"text\"].apply(preprocess_text).apply(lemmatize_text)\n",
    "reals_news = reals_news[[\"date\", \"author\", \"features\"]]\n",
    "reals_news = reals_news.drop_duplicates(subset=\"features\", keep=\"first\").reset_index(drop=True)\n",
    "reals_news[\"labels\"] = 3\n",
    "reals_news[\"author\"] = reals_news[\"author\"].apply(str.lower).apply(format_author)\n",
    "reals_news[\"date\"] = reals_news[\"date\"].apply(str.lower).apply(format_date)\n",
    "reals_news[\"features\"] = reals_news[\"date\"] + ' ' + reals_news[\"author\"] + ' ' + reals_news[\"features\"]\n",
    "reals_news = reals_news[[\"features\", \"labels\"]]\n",
    "display(reals_news.head())"
   ]
  },
  {
   "cell_type": "markdown",
   "metadata": {},
   "source": [
    "# Final dataset"
   ]
  },
  {
   "cell_type": "code",
   "execution_count": 14,
   "metadata": {},
   "outputs": [],
   "source": [
    "# Enregistrement du dataset final\n",
    "pd.concat(objs=[fakes_news, reals_news], axis=0).sort_values(by=[\"labels\", \"features\"]).reset_index(drop=True).to_csv(path_or_buf=\"fakesNews_dataset.csv\", index=False)"
   ]
  }
 ],
 "metadata": {
  "kernelspec": {
   "display_name": "base",
   "language": "python",
   "name": "python3"
  },
  "language_info": {
   "codemirror_mode": {
    "name": "ipython",
    "version": 3
   },
   "file_extension": ".py",
   "mimetype": "text/x-python",
   "name": "python",
   "nbconvert_exporter": "python",
   "pygments_lexer": "ipython3",
   "version": "3.9.12"
  },
  "orig_nbformat": 4
 },
 "nbformat": 4,
 "nbformat_minor": 2
}
